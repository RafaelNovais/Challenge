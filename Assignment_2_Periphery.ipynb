{
  "cells": [
    {
      "cell_type": "markdown",
      "metadata": {
        "id": "view-in-github",
        "colab_type": "text"
      },
      "source": [
        "<a href=\"https://colab.research.google.com/github/RafaelNovais/Challenge/blob/main/Assignment_2_Periphery.ipynb\" target=\"_parent\"><img src=\"https://colab.research.google.com/assets/colab-badge.svg\" alt=\"Open In Colab\"/></a>"
      ]
    },
    {
      "cell_type": "markdown",
      "metadata": {
        "id": "06NNXcAnTGfI"
      },
      "source": [
        "# CT5132 / CT5148 Assignment 2: Periphery\n",
        "\n",
        "**Summary**: In this assignment, you have to investigate, explain, and implement one or more methods of finding the **periphery** of a dataset. The periphery doesn't have a single definition, so you have some freedom to look at different definitions and approaches.\n",
        "\n",
        "You are allowed to use any sources and resources you like, including code and documents from the internet, existing libraries, and generative AI methods."
      ]
    },
    {
      "cell_type": "markdown",
      "metadata": {
        "id": "gZDbpP0ETGfL"
      },
      "source": [
        "**Due date**: as announced on Canvas.\n",
        "\n",
        "**Weight**: this assignment is worth 20% of the module.\n",
        "\n",
        "**Groups**: you may work in a group of 1 (solo), 2, or 3, but you must not work with any student you previously worked with in any assignment in this module or any other module.\n",
        "\n",
        "If working in a group:\n",
        "* You must notify the lecturer by email 2 weeks before the due date, cc-ing all students in the group, and state that you have not worked together in any other assignment.\n",
        "* Students in a group must work together on all aspects -- you cannot split tasks up so that one student doesn't understand how another student's part of the project works.\n",
        "* All students in the group must submit and the submissions must be identical.\n",
        "* All communication should cc all group members.\n",
        "\n",
        "**Resources**:\n",
        "\n",
        "* You may use code you find on the internet, but you must clearly cite the URL and clearly mark which parts of your solution are from that URL.\n",
        "* You may use code completion and generative AI methods, such as GitHub Copilot and ChatGPT. When doing so you must clearly document your methodology when using it, eg the system(s) you use, the prompts, how you notice when the AI gets things wrong, how you improve it, etc. You must clearly document which parts of your submission come from generative AI.\n",
        "* You may discuss with other students/groups, but you may not show your work to them or view their work.\n",
        "\n",
        "**Interviews**: Post-submission vivas will be used in some cases to give students an opportunity to demonstrate their learning.\n",
        "\n",
        "**Grading**: A basic solution (one simple method, based on a single source, demonstrated on one dataset, with short explanation) will be enough for a pass grade. For a very high grade, you can add more value by, for example:\n",
        "\n",
        "* Investigating multiple methods,\n",
        "* describing your methods correctly,\n",
        "* implementing and comparing them (results, visualisations, pros and cons),\n",
        "* on multiple datasets with different properties;\n",
        "* providing a sophisticated account of the use of generative AI;\n",
        "* integrating information from multiple sources;\n",
        "* implementing your methods as Scikit-Learn estimators (NB: for some approaches to the problem there is no \"right answer\", so we may or may not need to implement `score`),\n",
        "* with clean code and appropriate documentation and comments;\n",
        "* with vectorisation where appropriate;\n",
        "* describing the run-time or computational complexity.\n",
        "\n",
        "These are examples of how you can add value, not an exhaustive list.\n",
        "\n",
        "**NB**: some approaches to the problem are based on machine learning, but others are not. This is not a machine learning module, so you are not obliged to choose any machine learning methods.\n",
        "\n",
        "There is no lower or upper bound on word-count or line-count. However, a high-quality submission with 3 methods and 3 datasets could be done in less than 100 lines and less than 1000 words.\n",
        "\n",
        "**Submission**: submit an `ipynb` file containing code, results, and explanations. If you need to submit any data files as well, you can submit a `zip` file. Include your name and ID."
      ]
    },
    {
      "cell_type": "markdown",
      "source": [
        "**Rafael Novais de Melo\n",
        "23113607**"
      ],
      "metadata": {
        "id": "XoDBgUxtdcpv"
      }
    },
    {
      "cell_type": "markdown",
      "metadata": {
        "id": "QsK6oiuNTGfN"
      },
      "source": [
        "### Problem definition\n",
        "\n",
        "Given a dataset of points `X` of shape `(n_samples, n_features)`, the **periphery** is a subset of those points which are in some sense \"on the border\", or \"outside the main dataset\". The image below shows one possible conception of the periphery. I created it by hand for this dataset. Your job is to investigate methods of doing it automatically for any dataset. Some relevant ideas include the **convex hull**, **anomaly detection**, **outliers**, **bounding box**.\n",
        "\n",
        "(Why is the periphery interesting? One motivation is when investigating the performance of regression and classification models in **extrapolation**: if we train only on the core, how is performance on the unseen periphery? But this is just motivation: we are not required to investigate extrapolation for this assignment.)"
      ]
    },
    {
      "cell_type": "code",
      "execution_count": null,
      "metadata": {
        "id": "JNv82v5PTGfN"
      },
      "outputs": [],
      "source": [
        "import numpy as np\n",
        "import matplotlib.pyplot as plt\n",
        "from sklearn.base import BaseEstimator"
      ]
    },
    {
      "cell_type": "code",
      "execution_count": null,
      "metadata": {
        "id": "GqdTqfYkTGfP"
      },
      "outputs": [],
      "source": [
        "# Create a random dataset\n",
        "np.random.seed(1)\n",
        "X = np.random.rand(30, 2)\n",
        "\n",
        "# Create labels: 0 => core, 1 => periphery\n",
        "labels = np.zeros(len(X))\n",
        "# by hand!\n",
        "labels[[1, 10, 12, 13, 14, 19, 20]] = 1"
      ]
    },
    {
      "cell_type": "code",
      "execution_count": null,
      "metadata": {
        "id": "9BYeyaPFTGfS",
        "outputId": "a6b5a824-4317-4442-adda-2158dce9771d"
      },
      "outputs": [
        {
          "data": {
            "image/png": "[encoded data removed]",
            "text/plain": [
              "<Figure size 432x288 with 1 Axes>"
            ]
          },
          "metadata": {
            "needs_background": "light"
          },
          "output_type": "display_data"
        }
      ],
      "source": [
        "core = X[labels == 0]\n",
        "periphery = X[labels == 1]\n",
        "plt.scatter(core[:, 0], core[:, 1], c='blue', label='Core')\n",
        "plt.scatter(periphery[:, 0], periphery[:, 1], c='red', label='Periphery')\n",
        "plt.legend()\n",
        "plt.show()"
      ]
    },
    {
      "cell_type": "code",
      "execution_count": null,
      "metadata": {
        "id": "flWkipQVTGfT"
      },
      "outputs": [],
      "source": []
    }
  ],
  "metadata": {
    "kernelspec": {
      "display_name": "py39",
      "language": "python",
      "name": "python3"
    },
    "language_info": {
      "codemirror_mode": {
        "name": "ipython",
        "version": 3
      },
      "file_extension": ".py",
      "mimetype": "text/x-python",
      "name": "python",
      "nbconvert_exporter": "python",
      "pygments_lexer": "ipython3",
      "version": "3.9.12"
    },
    "orig_nbformat": 4,
    "colab": {
      "provenance": [],
      "include_colab_link": true
    }
  },
  "nbformat": 4,
  "nbformat_minor": 0
}