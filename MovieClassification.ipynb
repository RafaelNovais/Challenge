{
  "nbformat": 4,
  "nbformat_minor": 0,
  "metadata": {
    "colab": {
      "provenance": [],
      "mount_file_id": "1GW8J6jobQllvXbv6PVU7ivIfJ9QBYJT5",
      "authorship_tag": "ABX9TyO45OKs/9gil0B5Kdg4O2FI",
      "include_colab_link": true
    },
    "kernelspec": {
      "name": "python3",
      "display_name": "Python 3"
    },
    "language_info": {
      "name": "python"
    }
  },
  "cells": [
    {
      "cell_type": "markdown",
      "metadata": {
        "id": "view-in-github",
        "colab_type": "text"
      },
      "source": [
        "<a href=\"https://colab.research.google.com/github/RafaelNovais/Challenge/blob/main/MovieClassification.ipynb\" target=\"_parent\"><img src=\"https://colab.research.google.com/assets/colab-badge.svg\" alt=\"Open In Colab\"/></a>"
      ]
    },
    {
      "cell_type": "markdown",
      "source": [
        "##Movie Analysis\n"
      ],
      "metadata": {
        "id": "cO49mIsLCirK"
      }
    },
    {
      "cell_type": "code",
      "execution_count": null,
      "metadata": {
        "id": "WhOYw04NChdI",
        "colab": {
          "base_uri": "https://localhost:8080/"
        },
        "outputId": "d751d6e3-496d-44f7-9eb3-b9657f7d41ab"
      },
      "outputs": [
        {
          "output_type": "stream",
          "name": "stdout",
          "text": [
            "        userId  movieId  rating   timestamp\n",
            "0            1        1     4.0   964982703\n",
            "1            1        3     4.0   964981247\n",
            "2            1        6     4.0   964982224\n",
            "3            1       47     5.0   964983815\n",
            "4            1       50     5.0   964982931\n",
            "...        ...      ...     ...         ...\n",
            "100831     610   166534     4.0  1493848402\n",
            "100832     610   168248     5.0  1493850091\n",
            "100833     610   168250     5.0  1494273047\n",
            "100834     610   168252     5.0  1493846352\n",
            "100835     610   170875     3.0  1493846415\n",
            "\n",
            "[100836 rows x 4 columns]\n",
            "      movieId                                      title  \\\n",
            "0           1                           Toy Story (1995)   \n",
            "1           2                             Jumanji (1995)   \n",
            "2           3                    Grumpier Old Men (1995)   \n",
            "3           4                   Waiting to Exhale (1995)   \n",
            "4           5         Father of the Bride Part II (1995)   \n",
            "...       ...                                        ...   \n",
            "9737   193581  Black Butler: Book of the Atlantic (2017)   \n",
            "9738   193583               No Game No Life: Zero (2017)   \n",
            "9739   193585                               Flint (2017)   \n",
            "9740   193587        Bungo Stray Dogs: Dead Apple (2018)   \n",
            "9741   193609        Andrew Dice Clay: Dice Rules (1991)   \n",
            "\n",
            "                                           genres  \n",
            "0     Adventure|Animation|Children|Comedy|Fantasy  \n",
            "1                      Adventure|Children|Fantasy  \n",
            "2                                  Comedy|Romance  \n",
            "3                            Comedy|Drama|Romance  \n",
            "4                                          Comedy  \n",
            "...                                           ...  \n",
            "9737              Action|Animation|Comedy|Fantasy  \n",
            "9738                     Animation|Comedy|Fantasy  \n",
            "9739                                        Drama  \n",
            "9740                             Action|Animation  \n",
            "9741                                       Comedy  \n",
            "\n",
            "[9742 rows x 3 columns]\n",
            "      userId  movieId               tag   timestamp\n",
            "0          2    60756             funny  1445714994\n",
            "1          2    60756   Highly quotable  1445714996\n",
            "2          2    60756      will ferrell  1445714992\n",
            "3          2    89774      Boxing story  1445715207\n",
            "4          2    89774               MMA  1445715200\n",
            "...      ...      ...               ...         ...\n",
            "3678     606     7382         for katie  1171234019\n",
            "3679     606     7936           austere  1173392334\n",
            "3680     610     3265            gun fu  1493843984\n",
            "3681     610     3265  heroic bloodshed  1493843978\n",
            "3682     610   168248  Heroic Bloodshed  1493844270\n",
            "\n",
            "[3683 rows x 4 columns]\n"
          ]
        }
      ],
      "source": [
        "import pandas as pd\n",
        "import seaborn as sns\n",
        "import matplotlib.pyplot as plt\n",
        "\n",
        "\n",
        "ratings = pd.read_csv(\"drive/MyDrive/Master/Courses/Movie/ratings.csv\")\n",
        "movies = pd.read_csv(\"drive/MyDrive/Master/Courses/Movie/movies.csv\")\n",
        "tags = pd.read_csv(\"drive/MyDrive/Master/Courses/Movie/tags.csv\")\n",
        "\n",
        "print(ratings)\n",
        "print(movies)\n",
        "print(tags)\n",
        "\n",
        "\n",
        "\n",
        "\n",
        "\n",
        "ratings.rating.describe()\n",
        "\n",
        "rating_mean = ratings.groupby(\"movieId\").mean()[\"rating\"]"
      ]
    },
    {
      "cell_type": "code",
      "source": [
        "rating_mean.plot(kind='hist')\n"
      ],
      "metadata": {
        "id": "Ppce-oOLNbJc"
      },
      "execution_count": null,
      "outputs": []
    },
    {
      "cell_type": "code",
      "source": [
        "sns.distplot(rating_mean, bins=10)\n"
      ],
      "metadata": {
        "id": "_GZmzfXUO_uo"
      },
      "execution_count": null,
      "outputs": []
    },
    {
      "cell_type": "code",
      "source": [
        "ratings.rating.std() #standard deviation"
      ],
      "metadata": {
        "id": "ZHLv7i2opscu"
      },
      "execution_count": null,
      "outputs": []
    },
    {
      "cell_type": "code",
      "source": [
        "#tags.tag.unique()# return distinct\n",
        "#tags.tag.drop_duplicates # remove duplicates\n",
        "#tags[tags['tag']== 'funny'] # Filter Funny\n",
        "\n",
        "tags[(tags['userId']>= 100) & (tags['userId']<= 500)] # Filter between  | or\n"
      ],
      "metadata": {
        "id": "IcrQipCcxpM5"
      },
      "execution_count": null,
      "outputs": []
    },
    {
      "cell_type": "code",
      "source": [
        "rating_mean.to_csv('drive/MyDrive/Master/Courses/Movie/RatingMean.csv') #export data"
      ],
      "metadata": {
        "id": "PXuQVufVzWtR"
      },
      "execution_count": null,
      "outputs": []
    },
    {
      "cell_type": "code",
      "source": [
        "#tags[tags['tag'].isnull()] # return null values\n",
        "#tags.dropna(subset=['tag'],  implace = True) # delete null values, implace to apply the changes in tags directly\n",
        "#del tagsd['timestemp'] # delete timestemp\n",
        "#tags.pop('timestemp') # delete timestemp\n",
        "#tags.drop(['timestemp', 'tag'], axis=1) delete column timestemp and tag, axis=0 row\n",
        "\n",
        "select = (tags['tag'] == 'funny') # set all funny in select\n",
        "nofunny = tags[~select] # remove all funnys from tags ~not in\n",
        "\n",
        "tags.fillna({'tag':0, 'timestamep': 0})  # fill an NA with 0"
      ],
      "metadata": {
        "id": "2kRCnYqgQ6--"
      },
      "execution_count": null,
      "outputs": []
    },
    {
      "cell_type": "code",
      "source": [
        "#tags[score] = tags[tag] + tags['movieId'] # creating a new column with sum 2 other\n",
        "#group = tags.groupby('tag') #group by a column\n",
        "#data.groupby(['company_location', 'job_title' ])[['salary_in_usd']].mean().round(2) # duble groupby\n",
        "#group.groups # show all the results are in each group\n",
        "\n",
        "for bairro, dados in group\n",
        "  print('{} -> {}'.format(bairro,dados.valor.mean).round(2))\n",
        "\n",
        "groups_quartos = [0,2,4,6,100]\n",
        "quartos = pd.cut(dados.quartos,groups_quartos) # agrupa e conta os quarto de 0a2 2a4 ...\n",
        "pd.value_counts(quartos)\n",
        "#casa = ['casa', 'casa de comdominio', 'casa de vila']\n",
        "#dados['tipo agregado'] = dados['tipo'].apply(lambda x: 'casa' if x in casa else 'apartament') # lamba function to run each line"
      ],
      "metadata": {
        "id": "W7xcOlolYLe9",
        "colab": {
          "base_uri": "https://localhost:8080/"
        },
        "outputId": "4896236f-a63e-4d7a-ad53-d6573c6ef0f3"
      },
      "execution_count": null,
      "outputs": [
        {
          "output_type": "execute_result",
          "data": {
            "text/plain": [
              "<pandas.core.groupby.generic.DataFrameGroupBy object at 0x7dbd78306e60>"
            ]
          },
          "metadata": {},
          "execution_count": 3
        }
      ]
    },
    {
      "cell_type": "code",
      "source": [
        "#boxplot\n",
        "#ax = sns.boxplot(x='salary_in_usd', y='company_location', data=data,orient='h')\n",
        "#ax.figure.set_size_inches(12,4)\n",
        "#ax\n"
      ],
      "metadata": {
        "id": "9VM-BiMRO-pn"
      },
      "execution_count": null,
      "outputs": []
    },
    {
      "cell_type": "markdown",
      "source": [],
      "metadata": {
        "id": "R1-45yRKYK2q"
      }
    }
  ]
}