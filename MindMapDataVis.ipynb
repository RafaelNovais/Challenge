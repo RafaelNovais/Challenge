{
  "nbformat": 4,
  "nbformat_minor": 0,
  "metadata": {
    "colab": {
      "provenance": [],
      "authorship_tag": "ABX9TyO+IQgiWrJLhKw3mnwbJtaY",
      "include_colab_link": true
    },
    "kernelspec": {
      "name": "python3",
      "display_name": "Python 3"
    },
    "language_info": {
      "name": "python"
    }
  },
  "cells": [
    {
      "cell_type": "markdown",
      "metadata": {
        "id": "view-in-github",
        "colab_type": "text"
      },
      "source": [
        "<a href=\"https://colab.research.google.com/github/RafaelNovais/Challenge/blob/main/MindMapDataVis.ipynb\" target=\"_parent\"><img src=\"https://colab.research.google.com/assets/colab-badge.svg\" alt=\"Open In Colab\"/></a>"
      ]
    },
    {
      "cell_type": "code",
      "execution_count": null,
      "metadata": {
        "id": "J2hF1Zd1vh_V"
      },
      "outputs": [],
      "source": []
    },
    {
      "cell_type": "markdown",
      "source": [
        "# Data Visualisation\n",
        "\n",
        "DATA + VISUAL ENCONDING ELEMENTS =DATA VISUALISATION\n",
        "\n",
        "Types\n",
        "\n",
        "1.   Data Analysis\n",
        "\n",
        "      Outlier BoxPlot/Whisker\n",
        "\n",
        "\n",
        "2.   Discovery/Exploration\n",
        "\n",
        "      This is heatmap combined with two bargraphs\n",
        "\n",
        "\n",
        "3.   Explanation\n",
        "\n",
        "    This is a diverging bar graph Very useful for showing how values diverge from a baseline value\n",
        "\n",
        "4.   Decision Making\n",
        "\n",
        "\n",
        "\n",
        "# 4 Question to desing a visualisation\n",
        "\n",
        "1 - Does the audience have the background to understand the visualisation\n",
        "\n",
        "    Nothing\n",
        "    A Little\n",
        "    Something but not expert\n",
        "    A lot\n",
        "    Expert\n",
        "\n",
        "2 - How Much time have the audience got to digest/analisy you visualisation\n",
        "\n",
        "    Limited - Tv Show\n",
        "    \n",
        "    Unlimited Print\n",
        "\n",
        "3 - How much space do you have for your visualisation\n",
        "\n",
        "    Power Point Full Screen\n",
        "\n",
        "    Small Graphic in A4\n",
        "\n",
        "4 - Will someone be present to explain/Highlight the Visualisation\n",
        "\n",
        "    Yes    Can be explained\n",
        "    Maybe\n",
        "    No     More details\n",
        "\n",
        "\n",
        "\n"
      ],
      "metadata": {
        "id": "tGChfTJYzSa3"
      }
    }
  ]
}