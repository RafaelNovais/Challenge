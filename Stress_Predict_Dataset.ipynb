{
  "nbformat": 4,
  "nbformat_minor": 0,
  "metadata": {
    "colab": {
      "provenance": [],
      "toc_visible": true,
      "authorship_tag": "ABX9TyMrKM2+YQd741rIOUa8NY1l",
      "include_colab_link": true
    },
    "kernelspec": {
      "name": "python3",
      "display_name": "Python 3"
    },
    "language_info": {
      "name": "python"
    }
  },
  "cells": [
    {
      "cell_type": "markdown",
      "metadata": {
        "id": "view-in-github",
        "colab_type": "text"
      },
      "source": [
        "<a href=\"https://colab.research.google.com/github/RafaelNovais/Challenge/blob/main/Stress_Predict_Dataset.ipynb\" target=\"_parent\"><img src=\"https://colab.research.google.com/assets/colab-badge.svg\" alt=\"Open In Colab\"/></a>"
      ]
    },
    {
      "cell_type": "code",
      "execution_count": null,
      "metadata": {
        "id": "4DlozoDyiNbf"
      },
      "outputs": [],
      "source": [
        "from pandas.core.arrays.datetimelike import mode\n",
        "import pandas as pd\n",
        "from sklearn.svm import LinearSVC\n",
        "from collections import Counter\n",
        "import matplotlib.pyplot as plt\n",
        "\n",
        "\"\"\"\n",
        "Understanding the Dataset\n",
        "The appropriate machine learning category for solving the problem of predicting stress levels is Linear Regression .\n",
        "You can treating the stress level as a continuous numerical variable and predict a numerical value representing the stress level,\n",
        "can provide a quantitative estimate of stress, allowing for a more fine-grained understanding of stress levels.\n",
        "\n",
        "Data Exploration\n",
        "Can not be considered imbalanced because the proportion is:\n",
        "Data\n",
        "0    0.672802\n",
        "1    0.327198\n",
        "Test\n",
        "0    0.671782\n",
        "1    0.328218\n",
        "Train\n",
        "0    0.673239\n",
        "1    0.326761\n",
        "\n",
        "Choosing an ML Package\n",
        "Panda to read and use the files\n",
        "Scikit Learn to use classification algorithms, decision trees, random forests, support vector machines, linear regression\n",
        "Matplotlib  to data visualization and scientific plotting\n",
        "\n",
        "Data Pre-processing\n",
        "Fill the empty values\n",
        "\n",
        "\n",
        "\"\"\"\n",
        "\n",
        "dataFrame = pd.read_csv(\"/content/sample_data/Data.csv\")\n",
        "dataTest = pd.read_csv(\"/content/sample_data/test.csv\")\n",
        "dataTrain = pd.read_csv(\"/content/sample_data/train.csv\")\n",
        "\n",
        "x_data = dataFrame[[\"Participant\",\"HR\",\"respr\"]]\n",
        "y_data = dataFrame[\"Label\"]\n",
        "x_test = dataTest[[\"Participant\",\"HR\",\"respr\"]]\n",
        "y_test = dataTest[\"Label\"]\n",
        "x_train = dataTrain[[\"Participant\",\"HR\",\"respr\"]]\n",
        "y_train = dataTrain[\"Label\"]\n",
        "\n",
        "propor_data = y_data.value_counts()/len(x_data)\n",
        "propor_test = y_test.value_counts()/len(x_test)\n",
        "propor_train = y_train.value_counts()/len(x_train)\n",
        "print(propor_data ,propor_test ,propor_train)\n",
        "\n",
        "model = LinearSVC()\n",
        "model.fit(x_data,y_data)\n",
        "\n",
        "\n",
        "\n",
        "\n",
        "\n",
        "\n"
      ]
    },
    {
      "cell_type": "code",
      "source": [
        "print(dataFrame)\n",
        "print(x_data)\n",
        "print(y_data)\n",
        "\n",
        "\n"
      ],
      "metadata": {
        "id": "0YiUr8uW-WhS"
      },
      "execution_count": null,
      "outputs": []
    },
    {
      "cell_type": "markdown",
      "source": [],
      "metadata": {
        "id": "PuQQKjJJ-WHS"
      }
    }
  ]
}